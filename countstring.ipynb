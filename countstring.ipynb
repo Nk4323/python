{
  "nbformat": 4,
  "nbformat_minor": 0,
  "metadata": {
    "colab": {
      "provenance": [],
      "authorship_tag": "ABX9TyOeK8Om9/+j9DC3CZ5BbRuU",
      "include_colab_link": true
    },
    "kernelspec": {
      "name": "python3",
      "display_name": "Python 3"
    },
    "language_info": {
      "name": "python"
    }
  },
  "cells": [
    {
      "cell_type": "markdown",
      "metadata": {
        "id": "view-in-github",
        "colab_type": "text"
      },
      "source": [
        "<a href=\"https://colab.research.google.com/github/Nk4323/python/blob/main/countstring.ipynb\" target=\"_parent\"><img src=\"https://colab.research.google.com/assets/colab-badge.svg\" alt=\"Open In Colab\"/></a>"
      ]
    },
    {
      "cell_type": "code",
      "execution_count": 1,
      "metadata": {
        "colab": {
          "base_uri": "https://localhost:8080/"
        },
        "id": "9NznXqHGrkKz",
        "outputId": "90f3fa2f-7ca1-4308-a355-f1ab192bfc17"
      },
      "outputs": [
        {
          "output_type": "stream",
          "name": "stdout",
          "text": [
            "enter the stringhi how are you\n",
            "['hi', 'how', 'are', 'you']\n"
          ]
        }
      ],
      "source": [
        " # write a program to count the number of words in a string without split()\n",
        "\n",
        " s = input(\"enter the string\")\n",
        "L = []\n",
        "temp = \"\"\n",
        "for i in s:\n",
        "\n",
        "  if i != \" \":\n",
        "    temp = temp + i\n",
        "  else:\n",
        "    L.append(temp)\n",
        "    temp = \"\"\n",
        "L.append(temp)\n",
        "print(L)\n"
      ]
    }
  ]
}