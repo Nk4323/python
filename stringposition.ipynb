{
  "nbformat": 4,
  "nbformat_minor": 0,
  "metadata": {
    "colab": {
      "provenance": [],
      "authorship_tag": "ABX9TyMgWIHPZnbQ+cu4DbN3ResY",
      "include_colab_link": true
    },
    "kernelspec": {
      "name": "python3",
      "display_name": "Python 3"
    },
    "language_info": {
      "name": "python"
    }
  },
  "cells": [
    {
      "cell_type": "markdown",
      "metadata": {
        "id": "view-in-github",
        "colab_type": "text"
      },
      "source": [
        "<a href=\"https://colab.research.google.com/github/Nk4323/python/blob/main/stringposition.ipynb\" target=\"_parent\"><img src=\"https://colab.research.google.com/assets/colab-badge.svg\" alt=\"Open In Colab\"/></a>"
      ]
    },
    {
      "cell_type": "code",
      "execution_count": 1,
      "metadata": {
        "colab": {
          "base_uri": "https://localhost:8080/"
        },
        "id": "HW9hrFvYjwC8",
        "outputId": "83e4a5a5-5507-4e82-9317-e963c05c2c1c"
      },
      "outputs": [
        {
          "output_type": "stream",
          "name": "stdout",
          "text": [
            "enter emailnitish24singh@gmail.com\n",
            "nitish24singh\n"
          ]
        }
      ],
      "source": [
        "# extract username from a given email.\n",
        "# Eg if email is nitish24singh@gmail.com\n",
        "# then the username should be nitish24singh\n",
        "\n",
        "s = input(\"enter email\")\n",
        "\n",
        "pos = s.index(\"@\")\n",
        "print(s[0:pos])"
      ]
    },
    {
      "cell_type": "markdown",
      "source": [],
      "metadata": {
        "id": "qCCmm4EJlB4Y"
      }
    }
  ]
}