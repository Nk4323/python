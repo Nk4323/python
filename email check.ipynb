{
  "nbformat": 4,
  "nbformat_minor": 0,
  "metadata": {
    "colab": {
      "provenance": [],
      "authorship_tag": "ABX9TyM7IIXNfZn/jX7kHxdiWE4K",
      "include_colab_link": true
    },
    "kernelspec": {
      "name": "python3",
      "display_name": "Python 3"
    },
    "language_info": {
      "name": "python"
    }
  },
  "cells": [
    {
      "cell_type": "markdown",
      "metadata": {
        "id": "view-in-github",
        "colab_type": "text"
      },
      "source": [
        "<a href=\"https://colab.research.google.com/github/Nk4323/python/blob/main/email%20check.ipynb\" target=\"_parent\"><img src=\"https://colab.research.google.com/assets/colab-badge.svg\" alt=\"Open In Colab\"/></a>"
      ]
    },
    {
      "cell_type": "code",
      "execution_count": null,
      "metadata": {
        "id": "h-MPgpKaDdGU"
      },
      "outputs": [],
      "source": []
    },
    {
      "cell_type": "code",
      "source": [
        "# code for check my email is correct\n",
        "email = input(\"enter a email\")\n",
        "password = input(\"enter a password\")\n",
        "\n",
        "if email == \"nafisharshad09@gmail.com\" and password == \"1234\":\n",
        "  print(\"welcome\")\n",
        "else:\n",
        "  print(\"not correct\")"
      ],
      "metadata": {
        "colab": {
          "base_uri": "https://localhost:8080/"
        },
        "id": "BNw5aZj_D6AW",
        "outputId": "55fa476f-6000-4275-cd0d-04d3ab9a1140"
      },
      "execution_count": 3,
      "outputs": [
        {
          "output_type": "stream",
          "name": "stdout",
          "text": [
            "enter a emailnafish09\n",
            "enter a password234\n",
            "not correct\n"
          ]
        }
      ]
    }
  ]
}