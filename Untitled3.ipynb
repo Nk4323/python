{
  "nbformat": 4,
  "nbformat_minor": 0,
  "metadata": {
    "colab": {
      "provenance": [],
      "authorship_tag": "ABX9TyMtLnix5sQtgdAWh199PUS5",
      "include_colab_link": true
    },
    "kernelspec": {
      "name": "python3",
      "display_name": "Python 3"
    },
    "language_info": {
      "name": "python"
    }
  },
  "cells": [
    {
      "cell_type": "markdown",
      "metadata": {
        "id": "view-in-github",
        "colab_type": "text"
      },
      "source": [
        "<a href=\"https://colab.research.google.com/github/Nk4323/python/blob/main/Untitled3.ipynb\" target=\"_parent\"><img src=\"https://colab.research.google.com/assets/colab-badge.svg\" alt=\"Open In Colab\"/></a>"
      ]
    },
    {
      "cell_type": "code",
      "execution_count": 1,
      "metadata": {
        "colab": {
          "base_uri": "https://localhost:8080/"
        },
        "id": "kRXgmK8OeSUG",
        "outputId": "9b5c72d4-6676-443d-f41d-ef4334aa2b03"
      },
      "outputs": [
        {
          "output_type": "stream",
          "name": "stdout",
          "text": [
            "enter the temp in celcius56\n",
            "132.8\n"
          ]
        }
      ],
      "source": [
        "# task session 1 problem\n",
        "#celcius to farenheit\n",
        "celcius = float(input(\"enter the temp in celcius\"))\n",
        "faren = celcius *(9/5)+32\n",
        "print(faren)"
      ]
    }
  ]
}