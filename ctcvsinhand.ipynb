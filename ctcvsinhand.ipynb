{
  "nbformat": 4,
  "nbformat_minor": 0,
  "metadata": {
    "colab": {
      "provenance": [],
      "authorship_tag": "ABX9TyNmXhOJUMNWDDIlke80YGkb",
      "include_colab_link": true
    },
    "kernelspec": {
      "name": "python3",
      "display_name": "Python 3"
    },
    "language_info": {
      "name": "python"
    }
  },
  "cells": [
    {
      "cell_type": "markdown",
      "metadata": {
        "id": "view-in-github",
        "colab_type": "text"
      },
      "source": [
        "<a href=\"https://colab.research.google.com/github/Nk4323/python/blob/main/ctcvsinhand.ipynb\" target=\"_parent\"><img src=\"https://colab.research.google.com/assets/colab-badge.svg\" alt=\"Open In Colab\"/></a>"
      ]
    },
    {
      "cell_type": "code",
      "source": [
        "# program that will give you in hand salary aftercutting by da and pf and taxes and give you actual ctc vs inhand salary\n",
        "ctc = int(input(\"enter your annual ctc\"))\n",
        "if ctc < 50000000:\n",
        "    salary = ctc * 0.82\n",
        "elif ctc < 1000000:\n",
        "    salary = ctc * 0.72\n",
        "elif ctc < 2000000:\n",
        "    salary = ctc * 0.62\n",
        "else:\n",
        "    salary = ctc * 0.52\n",
        "\n",
        "print(\"your in hand salary will be.\", round(salary/12,2))"
      ],
      "metadata": {
        "colab": {
          "base_uri": "https://localhost:8080/"
        },
        "id": "Lqtx1JsDszjo",
        "outputId": "63908725-3070-42cd-bfbf-0f11a8a7f9c5"
      },
      "execution_count": 5,
      "outputs": [
        {
          "output_type": "stream",
          "name": "stdout",
          "text": [
            "enter your annual ctc50000000\n",
            "your in hand salary will be. 2166666.67\n"
          ]
        }
      ]
    },
    {
      "cell_type": "code",
      "source": [],
      "metadata": {
        "id": "DZNY6Lw-s1rZ"
      },
      "execution_count": null,
      "outputs": []
    },
    {
      "cell_type": "code",
      "execution_count": null,
      "metadata": {
        "id": "huEtZwDrkwmb"
      },
      "outputs": [],
      "source": [
        " # number of heads and legs problem\n",
        ""
      ]
    }
  ]
}