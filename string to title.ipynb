{
  "nbformat": 4,
  "nbformat_minor": 0,
  "metadata": {
    "colab": {
      "provenance": [],
      "authorship_tag": "ABX9TyOW9LBFMYdBmjFOBFIUwz7C",
      "include_colab_link": true
    },
    "kernelspec": {
      "name": "python3",
      "display_name": "Python 3"
    },
    "language_info": {
      "name": "python"
    }
  },
  "cells": [
    {
      "cell_type": "markdown",
      "metadata": {
        "id": "view-in-github",
        "colab_type": "text"
      },
      "source": [
        "<a href=\"https://colab.research.google.com/github/Nk4323/python/blob/main/string%20to%20title.ipynb\" target=\"_parent\"><img src=\"https://colab.research.google.com/assets/colab-badge.svg\" alt=\"Open In Colab\"/></a>"
      ]
    },
    {
      "cell_type": "code",
      "execution_count": 2,
      "metadata": {
        "colab": {
          "base_uri": "https://localhost:8080/"
        },
        "id": "S8FYIrYutugR",
        "outputId": "ddca9c48-17a5-4f1b-eb84-54528b627569"
      },
      "outputs": [
        {
          "output_type": "stream",
          "name": "stdout",
          "text": [
            "enter the stringhow are you aamir\n",
            "how\n",
            "are\n",
            "you\n",
            "aamir\n"
          ]
        }
      ],
      "source": [
        "# write a python program to convert a string to title case without using the title\n",
        "\n",
        "s = input(\"enter the string\")\n",
        "\n",
        "for i in s.split():\n",
        "  print(i)"
      ]
    }
  ]
}