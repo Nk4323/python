{
  "nbformat": 4,
  "nbformat_minor": 0,
  "metadata": {
    "colab": {
      "provenance": [],
      "authorship_tag": "ABX9TyNsGPKARZjF5Hqg6BwqZ45+",
      "include_colab_link": true
    },
    "kernelspec": {
      "name": "python3",
      "display_name": "Python 3"
    },
    "language_info": {
      "name": "python"
    }
  },
  "cells": [
    {
      "cell_type": "markdown",
      "metadata": {
        "id": "view-in-github",
        "colab_type": "text"
      },
      "source": [
        "<a href=\"https://colab.research.google.com/github/Nk4323/python/blob/main/stringremove.ipynb\" target=\"_parent\"><img src=\"https://colab.research.google.com/assets/colab-badge.svg\" alt=\"Open In Colab\"/></a>"
      ]
    },
    {
      "cell_type": "code",
      "execution_count": 1,
      "metadata": {
        "colab": {
          "base_uri": "https://localhost:8080/"
        },
        "id": "fUUBHmvfnDWk",
        "outputId": "a1c228e1-3eb6-451b-f299-213008a4d28a"
      },
      "outputs": [
        {
          "output_type": "stream",
          "name": "stdout",
          "text": [
            "enter the stringaamir\n",
            "what would like to search fori\n",
            "aamr\n"
          ]
        }
      ],
      "source": [
        "# write a program which can remove a particular character from a string\n",
        "s = input(\"enter the string\")\n",
        "term = input(\"what would like to search for\")\n",
        "\n",
        "result = \"\"\n",
        "for i in s:\n",
        "  if i != term:\n",
        "    result = result + i\n",
        "print(result)"
      ]
    }
  ]
}