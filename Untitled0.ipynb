{
  "nbformat": 4,
  "nbformat_minor": 0,
  "metadata": {
    "colab": {
      "provenance": [],
      "authorship_tag": "ABX9TyNYuLsBmkbhZQK63tMq/U/z",
      "include_colab_link": true
    },
    "kernelspec": {
      "name": "python3",
      "display_name": "Python 3"
    },
    "language_info": {
      "name": "python"
    }
  },
  "cells": [
    {
      "cell_type": "markdown",
      "metadata": {
        "id": "view-in-github",
        "colab_type": "text"
      },
      "source": [
        "<a href=\"https://colab.research.google.com/github/Nk4323/python/blob/main/Untitled0.ipynb\" target=\"_parent\"><img src=\"https://colab.research.google.com/assets/colab-badge.svg\" alt=\"Open In Colab\"/></a>"
      ]
    },
    {
      "cell_type": "code",
      "execution_count": null,
      "metadata": {
        "id": "h-MPgpKaDdGU"
      },
      "outputs": [],
      "source": []
    },
    {
      "cell_type": "code",
      "source": [
        "# code for check my email is correct\n",
        "email = input(\"enter a email\")\n",
        "password = input(\"enter a password\")\n",
        "\n",
        "if email == \"nafshad09@gmail.com\" and password == \"1234\":\n",
        "  print(\"welcome\")\n",
        "elif email == \"nafshad09@gmail.com\" and password != \"1234\":\n",
        "  #tell the user\n",
        "  print(\"incorrect password\")\n",
        "  password = input(\"enter password again\")\n",
        "  if password == \"1234\":\n",
        "    print(\"welcome, finally!\")\n",
        "  else:\n",
        "    print(\"beta tmse n ho pyga!\")\n",
        "else:\n",
        "  print(\"not correct\")"
      ],
      "metadata": {
        "colab": {
          "base_uri": "https://localhost:8080/"
        },
        "id": "BNw5aZj_D6AW",
        "outputId": "01f85037-ae9b-4bc3-aeb1-1a6b55f442f3"
      },
      "execution_count": 10,
      "outputs": [
        {
          "output_type": "stream",
          "name": "stdout",
          "text": [
            "enter a emailnafshad09@gmail.com\n",
            "enter a password123444\n",
            "incorrect password\n",
            "enter password again12345\n",
            "beta tmse n ho pyga!\n"
          ]
        }
      ]
    },
    {
      "cell_type": "code",
      "source": [
        "a = int(input(\"enter num\"))\n",
        "b = int(input(\"enter num\"))\n",
        "c = int(input(\"enter num\"))\n",
        "\n",
        "if a<b and a<c:\n",
        "  print(\"smallest is\", a)\n",
        "elif b<c:\n",
        "  print(\"smallest is\", b)\n",
        "else:\n",
        "  print(\"smallest is\", c)\n",
        "\n"
      ],
      "metadata": {
        "colab": {
          "base_uri": "https://localhost:8080/"
        },
        "id": "HjKlniAwKf0n",
        "outputId": "d36eea92-f205-4760-e9ab-5972b363bcfc"
      },
      "execution_count": 16,
      "outputs": [
        {
          "output_type": "stream",
          "name": "stdout",
          "text": [
            "enter num23\n",
            "enter num567\n",
            "enter num76\n",
            "smallest is 23\n"
          ]
        }
      ]
    }
  ]
}