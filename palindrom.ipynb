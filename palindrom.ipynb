{
  "nbformat": 4,
  "nbformat_minor": 0,
  "metadata": {
    "colab": {
      "provenance": [],
      "authorship_tag": "ABX9TyNtBHLczgHJV5KQWKzX7XmX",
      "include_colab_link": true
    },
    "kernelspec": {
      "name": "python3",
      "display_name": "Python 3"
    },
    "language_info": {
      "name": "python"
    }
  },
  "cells": [
    {
      "cell_type": "markdown",
      "metadata": {
        "id": "view-in-github",
        "colab_type": "text"
      },
      "source": [
        "<a href=\"https://colab.research.google.com/github/Nk4323/python/blob/main/palindrom.ipynb\" target=\"_parent\"><img src=\"https://colab.research.google.com/assets/colab-badge.svg\" alt=\"Open In Colab\"/></a>"
      ]
    },
    {
      "cell_type": "code",
      "execution_count": 7,
      "metadata": {
        "colab": {
          "base_uri": "https://localhost:8080/"
        },
        "id": "zjqmu4SzpABQ",
        "outputId": "a1c36111-80e8-45b3-f7a7-f6ec85f9ca3e"
      },
      "outputs": [
        {
          "output_type": "stream",
          "name": "stdout",
          "text": [
            "enter the stringracecar\n",
            "palindrom\n"
          ]
        }
      ],
      "source": [
        "# write a program that can check whether a given string is palindrom or not\n",
        "# abba\n",
        "# malyalam\n",
        "\n",
        "s = input(\"enter the string\")\n",
        "flag = True\n",
        "for i in range(0,len(s)//2):\n",
        "  if s[i] != s[len(s)-i-1]:\n",
        "    flag = False\n",
        "    print(\"not a palindrom\")\n",
        "    break\n",
        "\n",
        "if flag:\n",
        "  print(\"palindrom\")\n",
        "\n",
        ""
      ]
    }
  ]
}