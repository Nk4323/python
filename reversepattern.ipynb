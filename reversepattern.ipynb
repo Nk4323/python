{
  "nbformat": 4,
  "nbformat_minor": 0,
  "metadata": {
    "colab": {
      "provenance": [],
      "authorship_tag": "ABX9TyNjUW8eiYZYd2/MfOKhi5+X",
      "include_colab_link": true
    },
    "kernelspec": {
      "name": "python3",
      "display_name": "Python 3"
    },
    "language_info": {
      "name": "python"
    }
  },
  "cells": [
    {
      "cell_type": "markdown",
      "metadata": {
        "id": "view-in-github",
        "colab_type": "text"
      },
      "source": [
        "<a href=\"https://colab.research.google.com/github/Nk4323/python/blob/main/reversepattern.ipynb\" target=\"_parent\"><img src=\"https://colab.research.google.com/assets/colab-badge.svg\" alt=\"Open In Colab\"/></a>"
      ]
    },
    {
      "cell_type": "code",
      "execution_count": 7,
      "metadata": {
        "colab": {
          "base_uri": "https://localhost:8080/"
        },
        "id": "rjkJqhfK2ypO",
        "outputId": "696da61d-7861-4296-da76-fe3cf5f24f47"
      },
      "outputs": [
        {
          "output_type": "stream",
          "name": "stdout",
          "text": [
            "enter the rows5\n",
            "5 4 3 2 1 \n",
            "4 3 2 1 \n",
            "3 2 1 \n",
            "2 1 \n",
            "1 \n"
          ]
        }
      ],
      "source": [
        "# pattern printing , reverse number pattern\n",
        "# 54321\n",
        "# 4321\n",
        "# 321\n",
        "# 21\n",
        "# 1\n",
        "rows = int(input(\"enter the rows\"))\n",
        "\n",
        "for i in range(0,rows):\n",
        "  for j in range(rows-i,0,-1):\n",
        "    print(j,end=\" \")\n",
        "  print()"
      ]
    }
  ]
}