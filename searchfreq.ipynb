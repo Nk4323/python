{
  "nbformat": 4,
  "nbformat_minor": 0,
  "metadata": {
    "colab": {
      "provenance": [],
      "authorship_tag": "ABX9TyM65SHLhXzeVN06WrwtGDaF",
      "include_colab_link": true
    },
    "kernelspec": {
      "name": "python3",
      "display_name": "Python 3"
    },
    "language_info": {
      "name": "python"
    }
  },
  "cells": [
    {
      "cell_type": "markdown",
      "metadata": {
        "id": "view-in-github",
        "colab_type": "text"
      },
      "source": [
        "<a href=\"https://colab.research.google.com/github/Nk4323/python/blob/main/searchfreq.ipynb\" target=\"_parent\"><img src=\"https://colab.research.google.com/assets/colab-badge.svg\" alt=\"Open In Colab\"/></a>"
      ]
    },
    {
      "cell_type": "code",
      "execution_count": 2,
      "metadata": {
        "colab": {
          "base_uri": "https://localhost:8080/"
        },
        "id": "WULCxdW3ldGW",
        "outputId": "da7fd6d7-ad45-4716-b8e6-cacf0106d5f4"
      },
      "outputs": [
        {
          "output_type": "stream",
          "name": "stdout",
          "text": [
            "enter the emailnafis12@gmail.com\n",
            "what would like to search forn\n",
            "frequency 1\n"
          ]
        }
      ],
      "source": [
        "# count the frequency of a particular character in a provided string\n",
        "# Eg \"hello how are you\" is the string, the frequency of h in this string is 2\n",
        "\n",
        "s = input(\"enter the email\")\n",
        "term = input(\"what would like to search for\")\n",
        "\n",
        "counter = 0\n",
        "for i in s:\n",
        "    if i == term:\n",
        "      counter += 1\n",
        "      print(\"frequency\", counter)\n"
      ]
    }
  ]
}