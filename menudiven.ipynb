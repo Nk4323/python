{
  "nbformat": 4,
  "nbformat_minor": 0,
  "metadata": {
    "colab": {
      "provenance": [],
      "authorship_tag": "ABX9TyOsugV28QqTxlSJ18DJuVgd",
      "include_colab_link": true
    },
    "kernelspec": {
      "name": "python3",
      "display_name": "Python 3"
    },
    "language_info": {
      "name": "python"
    }
  },
  "cells": [
    {
      "cell_type": "markdown",
      "metadata": {
        "id": "view-in-github",
        "colab_type": "text"
      },
      "source": [
        "<a href=\"https://colab.research.google.com/github/Nk4323/python/blob/main/menudiven.ipynb\" target=\"_parent\"><img src=\"https://colab.research.google.com/assets/colab-badge.svg\" alt=\"Open In Colab\"/></a>"
      ]
    },
    {
      "cell_type": "code",
      "execution_count": 2,
      "metadata": {
        "colab": {
          "base_uri": "https://localhost:8080/"
        },
        "id": "os4RIFI0M7Qw",
        "outputId": "5947e078-7d2f-4925-858d-48aacab65860"
      },
      "outputs": [
        {
          "output_type": "stream",
          "name": "stdout",
          "text": [
            "\n",
            "HI! how can i help you.\n",
            "1. enter 1 for pin change \n",
            "2. enter 2 for balance inquiry\n",
            "3. enter 3 for withdrawal\n",
            "4. enter 4 for exit.\n",
            "1\n",
            "pin change\n"
          ]
        }
      ],
      "source": [
        "# menudriven program\n",
        "menu = input(\"\"\"\n",
        "HI! how can i help you.\n",
        "1. enter 1 for pin change\n",
        "2. enter 2 for balance inquiry\n",
        "3. enter 3 for withdrawal\n",
        "4. enter 4 for exit.\n",
        "\"\"\")\n",
        "\n",
        "if menu == \"1\":\n",
        "  print(\"pin change\")\n",
        "elif menu == \"2\":\n",
        "  print(\"balance\")\n",
        "else:\n",
        "  print(\"exit\")\n",
        "\n"
      ]
    },
    {
      "cell_type": "code",
      "source": [],
      "metadata": {
        "id": "xfKNoLp8NRW1"
      },
      "execution_count": null,
      "outputs": []
    }
  ]
}