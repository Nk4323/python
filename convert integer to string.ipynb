{
  "nbformat": 4,
  "nbformat_minor": 0,
  "metadata": {
    "colab": {
      "provenance": [],
      "authorship_tag": "ABX9TyNLJBUNRxTW3tpn6YuD03r2",
      "include_colab_link": true
    },
    "kernelspec": {
      "name": "python3",
      "display_name": "Python 3"
    },
    "language_info": {
      "name": "python"
    }
  },
  "cells": [
    {
      "cell_type": "markdown",
      "metadata": {
        "id": "view-in-github",
        "colab_type": "text"
      },
      "source": [
        "<a href=\"https://colab.research.google.com/github/Nk4323/python/blob/main/convert%20integer%20to%20string.ipynb\" target=\"_parent\"><img src=\"https://colab.research.google.com/assets/colab-badge.svg\" alt=\"Open In Colab\"/></a>"
      ]
    },
    {
      "cell_type": "code",
      "execution_count": 3,
      "metadata": {
        "colab": {
          "base_uri": "https://localhost:8080/"
        },
        "id": "_VCEgQD3w0Z-",
        "outputId": "75d18216-0c14-4a47-eb35-fa16b2508c9d"
      },
      "outputs": [
        {
          "output_type": "stream",
          "name": "stdout",
          "text": [
            "enter the number235\n",
            "235\n",
            "<class 'str'>\n"
          ]
        }
      ],
      "source": [
        "# write  a program to convert an integer to string\n",
        "number = int(input(\"enter the number\"))\n",
        "\n",
        "digits = \"0123456789\"\n",
        "result = \"\"\n",
        "while number != 0:\n",
        "    result = digits[number % 10] + result\n",
        "    number = number // 10\n",
        "print(result)\n",
        "print(type(result))\n"
      ]
    }
  ]
}